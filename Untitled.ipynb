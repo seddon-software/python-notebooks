{
 "cells": [
  {
   "cell_type": "code",
   "execution_count": 1,
   "metadata": {},
   "outputs": [
    {
     "name": "stdout",
     "output_type": "stream",
     "text": [
      "A02_mutability.ipynb\t\t    B05_Sympy.ipynb\r\n",
      "A03_conditionals_and_loops.ipynb    B06_PIL.ipynb\r\n",
      "A04_lists_and_tuples.ipynb\t    B07_scikitlearn.ipynb\r\n",
      "A05_functions.ipynb\t\t    B08_SciKitImage.ipynb\r\n",
      "A06_dictionaries.ipynb\t\t    bokeh.ipynb\r\n",
      "A07_modules.ipynb\t\t    data\r\n",
      "A08_classes.ipynb\t\t    Figures.ppt\r\n",
      "A09_file_IO.ipynb\t\t    images\r\n",
      "A10_exception_handling.ipynb\t    images.ppt\r\n",
      "A11_comprehensions.ipynb\t    libs\r\n",
      "A12_iterators_and_generators.ipynb  lines.html\r\n",
      "A13_decorators.ipynb\t\t    logs\r\n",
      "A14_threads.ipynb\t\t    my.css\r\n",
      "A15_InterfacingWithCandC++.ipynb    nexus\r\n",
      "A16_operator_overloading.ipynb\t    __pycache__\r\n",
      "B01_numpy.ipynb\t\t\t    resources\r\n",
      "B02_pandas.ipynb\t\t    session5.ipynb\r\n",
      "B03_Nexus.ipynb\t\t\t    Untitled.ipynb\r\n",
      "B04_curve_fitting.ipynb\t\t    z.ipynb\r\n"
     ]
    }
   ],
   "source": [
    "!ls"
   ]
  },
  {
   "cell_type": "code",
   "execution_count": null,
   "metadata": {},
   "outputs": [],
   "source": [
    "%load my.css"
   ]
  },
  {
   "cell_type": "code",
   "execution_count": null,
   "metadata": {},
   "outputs": [],
   "source": [
    "# %load my.css\n",
    "/* GLOBALS */\n",
    "/* body {background-color: #f7f7f7;} */\n",
    ".text_cell {background-color: cornsilk;}\n",
    ".code_cell { background-color: lightskyblue; }\n",
    ".selected { background-color: peachpuff; }\n",
    ".output { background-color: aliceblue; }\n",
    "\n",
    "/* Make the notebook cells take almost all available width */\n",
    "/*\n",
    ".container {\n",
    "    width: 99% !important;\n",
    "}   \n",
    "*/\n",
    "/* Prevent the edit cell highlight box from getting clipped;\n",
    " * important so that it also works when cell is in edit mode*/\n",
    "/*\n",
    "div.cell.selected {\n",
    "    border-left-width: 1px !important;\n",
    "*/\n",
    "}\n",
    "\n"
   ]
  },
  {
   "cell_type": "code",
   "execution_count": null,
   "metadata": {},
   "outputs": [],
   "source": []
  }
 ],
 "metadata": {
  "kernelspec": {
   "display_name": "Python 3",
   "language": "python",
   "name": "python3"
  },
  "language_info": {
   "codemirror_mode": {
    "name": "ipython",
    "version": 3
   },
   "file_extension": ".py",
   "mimetype": "text/x-python",
   "name": "python",
   "nbconvert_exporter": "python",
   "pygments_lexer": "ipython3",
   "version": "3.7.3"
  }
 },
 "nbformat": 4,
 "nbformat_minor": 4
}
