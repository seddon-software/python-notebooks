{
 "cells": [
  {
   "cell_type": "markdown",
   "metadata": {},
   "source": [
    "<div style=\"color:red;background-color:black\">\n",
    "Diamond Light Source\n",
    "\n",
    "<h1 style=\"color:red;background-color:antiquewhite\"> Python Libraries: MatPlotLib</h1>  \n",
    "\n",
    "©2000-20 Chris Seddon \n",
    "</div>"
   ]
  },
  {
   "cell_type": "markdown",
   "metadata": {},
   "source": [
    "## 1: Configure No Scrolling\n",
    "**MatPlotLib** is a very extensive library proviing many different types of 2D and 3D plots.  It even has modules for simple animation.\n",
    "\n",
    "Some of the plots end up taking up quite a lot of space.  By default, Jupyter Notebook will use a scrolling window to display thse plots.  I prefer to disable the scrolling and see the complete plot.  For this we need to execute some JavaScript in the next cell:\n"
   ]
  },
  {
   "cell_type": "code",
   "execution_count": null,
   "metadata": {},
   "outputs": [],
   "source": [
    "%%javascript\n",
    "IPython.OutputArea.prototype._should_scroll = function(lines) {\n",
    "    return false;\n",
    "}"
   ]
  },
  {
   "cell_type": "markdown",
   "metadata": {},
   "source": [
    "## 2: Using plt\n",
    "MatPlotLib was originally envisioned as a plug in replacement for MatLb.  The module *matplotlib.pyplot* is a state-based interface to matplotlib and provides a MATLAB-like interface."
   ]
  },
  {
   "cell_type": "code",
   "execution_count": null,
   "metadata": {},
   "outputs": [],
   "source": [
    "%matplotlib inline\n",
    "import matplotlib.pyplot as plt\n",
    "\n",
    "redCircles = \"ro\"\n",
    "plt.plot([1,2,3,4], [1,4,9,16], redCircles)\n",
    "plt.ylabel(\"squares\")\n",
    "plt.show()"
   ]
  },
  {
   "cell_type": "markdown",
   "metadata": {},
   "source": [
    "## 3: Using axes\n",
    "Nowadays, MatPlotLib has evolved from the MatLab interface and plots are usually achieved using *axes*.  An *axes* is effectively an x-y graph (or plot).  Its rather awkwardly called an *axes* because it is a pair of axes (x-axis and y-axis.  \n",
    "\n",
    "By using *axes* we can create multiple plots (see below).  If we want to reproduce the above example using *axes* we can proceed as follows:"
   ]
  },
  {
   "cell_type": "code",
   "execution_count": null,
   "metadata": {},
   "outputs": [],
   "source": [
    "%matplotlib inline\n",
    "import matplotlib.pyplot as plt\n",
    "\n",
    "# object oriented interface uses axes \n",
    "\n",
    "ax = plt.subplot()      # create single figure with one axes\n",
    "redCircles = \"ro\"\n",
    "ax.plot([1,2,3,4], [1,4,9,16], redCircles)\n",
    "ax.axis([0, 6, 0, 20])  # define the extent of the axes, otherwise matplotlib will calculate sensible values\n",
    "ax.set_ylabel(\"squares\")\n",
    "plt.show()"
   ]
  },
  {
   "cell_type": "markdown",
   "metadata": {},
   "source": [
    "## 4: Multiple Axes\n",
    "We can now create multiple plots (or axes) using the *subplots* method.  Note that in the code fragment:\n",
    "\n",
    "    row = 2\n",
    "    columns = 3\n",
    "    fig, axes = plt.subplots(row, columns, sharey=True)\n",
    "\n",
    "the *subplots* method returns a pointer to the entire figure (or window) and a 2D array of pointers to the *axes*.  The array is 2D because we've requested 2 rows and 3 columns.\n",
    "\n",
    "Multiple plots like these used to overlap sometimes, so a new commnad was added to improve the layout:\n",
    "\n",
    "    plt.tight_layout()\n",
    "\n",
    "Try removing the statement and observe the overlapping."
   ]
  },
  {
   "cell_type": "code",
   "execution_count": null,
   "metadata": {},
   "outputs": [],
   "source": [
    "%matplotlib inline\n",
    "import matplotlib.pyplot as plt\n",
    "import numpy as np\n",
    "\n",
    "t = np.arange(0.0, 5.0, 0.5)\n",
    "redDashes = \"r--\"\n",
    "blueSquares = \"bs\"\n",
    "greenTriangles = \"g^\"\n",
    "\n",
    "# create a group of axes arranged in a grid of rows and columns\n",
    "row = 2\n",
    "columns = 3\n",
    "fig, axes = plt.subplots(row, columns, sharey=True)\n",
    "\n",
    "axes[0][0].plot(t, t,    redDashes)\n",
    "axes[0][1].plot(t, t**2, blueSquares)  \n",
    "axes[0][2].plot(t, t**3, greenTriangles)\n",
    "axes[1][0].plot(t, t+t**2, blueSquares)\n",
    "axes[1][1].plot(t, t+t**3, greenTriangles)  \n",
    "axes[1][2].plot(t, t+t**4, redDashes)\n",
    "\n",
    "axes[0][0].set_title(\"axis 11\")\n",
    "axes[0][1].set_title(\"axis 12\")\n",
    "axes[0][2].set_title(\"axis 13\")\n",
    "axes[1][0].set_title(\"axis 21\")\n",
    "axes[1][1].set_title(\"axis 22\")\n",
    "axes[1][2].set_title(\"axis 23\")\n",
    "\n",
    "plt.tight_layout()\n",
    "plt.show()"
   ]
  },
  {
   "cell_type": "markdown",
   "metadata": {},
   "source": [
    "## 6: Changing the DPI\n",
    "\n",
    "The above plots are very small.  We can change the resolution (and hence the size) of our plots by changing the DPI (dots per inch):\n",
    "\n",
    "* plt.rcParams['figure.dpi'] = 300"
   ]
  },
  {
   "cell_type": "code",
   "execution_count": null,
   "metadata": {
    "scrolled": true
   },
   "outputs": [],
   "source": [
    "%matplotlib inline\n",
    "import matplotlib.pyplot as plt\n",
    "import numpy as np\n",
    "\n",
    "plt.rcParams['figure.dpi'] = 300\n",
    "\n",
    "t = np.arange(0.0, 5.0, 0.5)\n",
    "redDashes = \"r--\"\n",
    "blueSquares = \"bs\"\n",
    "greenTriangles = \"g^\"\n",
    "\n",
    "# create a group of axes arranged in a grid of rows and columns\n",
    "row = 2\n",
    "columns = 3\n",
    "fig, axes = plt.subplots(row, columns, sharey=True)\n",
    "\n",
    "axes[0][0].plot(t, t,    redDashes)\n",
    "axes[0][1].plot(t, t**2, blueSquares)  \n",
    "axes[0][2].plot(t, t**3, greenTriangles)\n",
    "axes[1][0].plot(t, t+t**2, blueSquares)\n",
    "axes[1][1].plot(t, t+t**3, greenTriangles)  \n",
    "axes[1][2].plot(t, t+t**4, redDashes)\n",
    "\n",
    "axes[0][0].set_title(\"axis 11\")\n",
    "axes[0][1].set_title(\"axis 12\")\n",
    "axes[0][2].set_title(\"axis 13\")\n",
    "axes[1][0].set_title(\"axis 21\")\n",
    "axes[1][1].set_title(\"axis 22\")\n",
    "axes[1][2].set_title(\"axis 23\")\n",
    "\n",
    "plt.gcf().canvas.set_window_title('Figure with 2x3 set of Axes') \n",
    "plt.tight_layout()   # this avoid adjacent plots overlapping\n",
    "plt.show()"
   ]
  },
  {
   "cell_type": "markdown",
   "metadata": {},
   "source": [
    "# 7: Combining Plots on an Axes:\n",
    "\n",
    "Its also possible to combine plots on a single *axes*.\n",
    "\n",
    "This time I'm using the <b>subplot</b> method to add a subplot to the current figure.  This method is different from the <b>subplots</b> method used above.\n",
    "\n",
    "Calling <b>subplot</b> with no parameters adds a single plot to the current figure."
   ]
  },
  {
   "cell_type": "code",
   "execution_count": null,
   "metadata": {},
   "outputs": [],
   "source": [
    "%matplotlib inline\n",
    "import numpy as np\n",
    "import matplotlib.pyplot as plt\n",
    "\n",
    "t = np.arange(0.0, 5.0, 0.200)\n",
    "redDashes = \"r--\"\n",
    "blueSquares = \"bs\"\n",
    "greenTriangles = \"g^\"\n",
    "\n",
    "ax = plt.subplot()\n",
    "ax.plot(t, t,    redDashes, \n",
    "         t, t**2, blueSquares,  \n",
    "         t, t**3, greenTriangles)\n",
    "ax.set_title(\"3 plots on One Axes\")\n",
    "\n",
    "plt.show()"
   ]
  },
  {
   "cell_type": "markdown",
   "metadata": {},
   "source": [
    "# 8: Multiple Figures:\n",
    "\n",
    "Sometimes you want to split the plots on different windows (pages).  In MatPlotLib a window is called a *figure*.\n",
    "\n",
    "In this example we create 2 figures.  Note that Jupyter Notebook can't display two separate windows so we get the output below.  I've changed the backgound colors of the figures to make them easier to identify.  If you run your code outside Notebook you will get two separate windows.\n",
    "\n",
    "Note that you can switch between figures using:\n",
    "\n",
    "    plt.figure(1)\n",
    "    plt.figure(2)\n",
    "    \n",
    "We are using <b>subplot</b> to add the subplots.  The first parameter is a little odd:\n",
    "\n",
    "    plt.subplot(312)\n",
    "\n",
    "means add a subplot to the current figure with 3 rows and 1 column and select slot number 2.  This slot will be the second plot down (since we've only got one column).\n",
    "\n",
    "Notes:\n",
    "* plt.gcf() : get the current figure\n",
    "* plt.gca() : get the current axes\n"
   ]
  },
  {
   "cell_type": "code",
   "execution_count": null,
   "metadata": {},
   "outputs": [],
   "source": [
    "%matplotlib inline\n",
    "import numpy as np\n",
    "import matplotlib.pyplot as plt\n",
    "\n",
    "t = np.arange(-2.0, 4.0, 0.01)\n",
    "\n",
    "plt.figure(1,constrained_layout=False)\n",
    "plt.subplot(311)\n",
    "plt.gca().set_title(\"slot 1\")\n",
    "plt.plot(t, t+t**2)\n",
    "plt.subplot(312)\n",
    "plt.gca().set_title(\"slot 2\")\n",
    "plt.plot(t, t+t**3)\n",
    "plt.subplot(313)\n",
    "plt.gca().set_title(\"slot 3\")\n",
    "plt.gcf().patch.set_facecolor('orange')\n",
    "plt.plot(t, t+t**4)\n",
    "plt.gcf().suptitle('This is Figure 1', fontsize=16)\n",
    "plt.subplots_adjust(hspace=0.8)\n",
    "\n",
    "plt.figure(2,constrained_layout=False)\n",
    "plt.subplot(221)\n",
    "plt.gca().set_title(\"slot 1\")\n",
    "plt.plot(t, t-t**2)\n",
    "plt.subplot(222)\n",
    "plt.gca().set_title(\"slot 2\")\n",
    "plt.plot(t, t-t**3)\n",
    "plt.subplot(223)\n",
    "plt.gca().set_title(\"slot 3\")\n",
    "plt.plot(t, t-t**4)\n",
    "plt.subplot(224)\n",
    "plt.gca().set_title(\"slot 4\")\n",
    "plt.plot(t, t-t**5)\n",
    "plt.gcf().patch.set_facecolor('yellow')\n",
    "plt.gcf().suptitle('This is Figure 2', fontsize=16)\n",
    "plt.subplots_adjust(hspace=0.5)\n",
    "plt.show()"
   ]
  },
  {
   "cell_type": "markdown",
   "metadata": {},
   "source": [
    "## 9: Plotting a Polynomial\n",
    "It is common for a plot to contain many points.  A good example is a polynomial plot. In the following example we are using 1000 data points; the points are so close together that the plot looks like a curve. \n",
    "\n",
    "We use **Numpy** to perform calculations before plotting:"
   ]
  },
  {
   "cell_type": "code",
   "execution_count": null,
   "metadata": {},
   "outputs": [],
   "source": [
    "%matplotlib inline\n",
    "import matplotlib.pyplot as plt\n",
    "import numpy as np\n",
    "\n",
    "ax = plt.subplot()\n",
    "X = np.arange(-5, 5, 0.01)  # 1000 data points\n",
    "Y = 5*X**2 + 3*X - 20\n",
    "redCircles = \"ro\"\n",
    "ax.plot(X, Y, redCircles)\n",
    "ax.set_xlabel(\"X\")\n",
    "ax.set_ylabel(\"Y\")\n",
    "ax.grid()\n",
    "plt.show()"
   ]
  },
  {
   "cell_type": "markdown",
   "metadata": {},
   "source": [
    "## 10: Plotting in 3D\n",
    "\n",
    "MatPlotLib can plot in 3 dimensions.  Run the code below to see a surface plot.  \n",
    "\n",
    "Note that the surface plot is frozen - you can't interact with the plot."
   ]
  },
  {
   "cell_type": "code",
   "execution_count": null,
   "metadata": {
    "scrolled": true
   },
   "outputs": [],
   "source": [
    "import numpy as np\n",
    "import matplotlib.pyplot as plt\n",
    "from mpl_toolkits.mplot3d import Axes3D\n",
    "from matplotlib import cm\n",
    "\n",
    "fig = plt.figure()\n",
    "ax = fig.gca(projection='3d')\n",
    "X = np.arange(-5, 5, 0.01)\n",
    "Y = np.arange(-5, 5, 0.01)\n",
    "X, Y = np.meshgrid(X, Y)\n",
    "\n",
    "R = np.sqrt(X**2 + Y**2)\n",
    "Z = np.sin(R)\n",
    "\n",
    "ax.plot_surface(X, Y, Z, cmap=cm.coolwarm)\n",
    "plt.show()"
   ]
  },
  {
   "cell_type": "markdown",
   "metadata": {},
   "source": [
    "## 11:Interacting with the Plot\n",
    "\n",
    "Normally MatPlotLib produces an interactive plot.  However Jupyter notebook doesn't support this functionality by default.\n",
    "\n",
    "Fortunately we can now install additional software to fix this problem.  Run the code fragment below to install the additional libraries.  The -q option supresses any error messages.  Remove that option if you run into trouble."
   ]
  },
  {
   "cell_type": "code",
   "execution_count": null,
   "metadata": {},
   "outputs": [],
   "source": [
    "%%bash\n",
    "\n",
    "pip install -q --user ipympl"
   ]
  },
  {
   "cell_type": "markdown",
   "metadata": {},
   "source": [
    "## 12:Using Jupyter Widgets\n",
    "\n",
    "The library you have just installed uses widgets to allow interation with the plot.  The magic command:\n",
    "\n",
    "    %matplotlib widget\n",
    "    \n",
    "is all that's required.  Run the code and then use your mouse to change the camera angle."
   ]
  },
  {
   "cell_type": "code",
   "execution_count": null,
   "metadata": {},
   "outputs": [],
   "source": [
    "%matplotlib widget\n",
    "\n",
    "import numpy as np\n",
    "import matplotlib.pyplot as plt\n",
    "from mpl_toolkits.mplot3d import Axes3D\n",
    "from matplotlib import cm\n",
    "\n",
    "fig = plt.figure()\n",
    "ax = fig.gca(projection='3d')\n",
    "X = np.arange(-5, 5, 0.01)\n",
    "Y = np.arange(-5, 5, 0.01)\n",
    "X, Y = np.meshgrid(X, Y)\n",
    "\n",
    "R = np.sqrt(X**2 + Y**2)\n",
    "Z = np.sin(R)\n",
    "\n",
    "ax.plot_surface(X, Y, Z, cmap=cm.coolwarm)\n",
    "plt.show()"
   ]
  },
  {
   "cell_type": "markdown",
   "metadata": {},
   "source": [
    "## 13: Other Types of Plot\n",
    "\n",
    "Matplotlib has many different types of plots: scatter plots allow us to plot points in 2 and 3 dimensions.  The dots can be represented by a variety of symbols.  \n",
    "\n",
    "Here is an example of a bar chart:"
   ]
  },
  {
   "cell_type": "code",
   "execution_count": null,
   "metadata": {},
   "outputs": [],
   "source": [
    "%matplotlib inline\n",
    "import matplotlib.pyplot as plt\n",
    "import numpy as np\n",
    "\n",
    "\n",
    "plt.rcParams['figure.dpi'] = 300\n",
    "N = 5\n",
    "As = (20, 35, 30, 35, 27)\n",
    "Bs = (25, 32, 34, 20, 25)\n",
    "errorBarsA = (1, 6, 1, 6, 1)\n",
    "errorBarsB = (6, 1, 6, 1, 6)\n",
    "X = [0, 1, 2, 3, 4]\n",
    "barWidth = 0.75\n",
    "\n",
    "# matplotlib.pyplot.bar(x, height, width=0.8, bottom=None, *, align='center', data=None, **kwargs)[source]\n",
    "\n",
    "p1 = plt.bar(X, As, barWidth, yerr=errorBarsA)                 # returns all the artists\n",
    "p2 = plt.bar(X, Bs, barWidth, bottom=As, yerr=errorBarsB)\n",
    "\n",
    "plt.xlabel('X Axis')\n",
    "plt.ylabel('Y Axis')\n",
    "plt.title('Bar Chart')\n",
    "plt.xticks(X, ('G1', 'G2', 'G3', 'G4', 'G5'))\n",
    "plt.yticks([0,10,20,30,40,50,60,70,80])\n",
    "plt.legend((p1[0], p2[0]), ('A', 'B'))\n",
    "plt.show()"
   ]
  },
  {
   "cell_type": "markdown",
   "metadata": {},
   "source": [
    "## 14: MatPlotLib Gallery\n",
    "Check out MatPlotLib's galley website for many more examples (complete with code):\n",
    "\n",
    "* <a href=\"https://matplotlib.org/3.3.2/gallery/index.html\">MatPlotLib Gallery</a>"
   ]
  },
  {
   "cell_type": "markdown",
   "metadata": {},
   "source": [
    "## 15: Processing Images\n",
    "\n",
    "MatPlotLib can also plot images using:\n",
    "\n",
    "    plt.imshow(img)\n"
   ]
  },
  {
   "cell_type": "code",
   "execution_count": null,
   "metadata": {
    "scrolled": true
   },
   "outputs": [],
   "source": [
    "%matplotlib inline\n",
    "import matplotlib.pyplot as plt\n",
    "import matplotlib.image as mpimg\n",
    "import numpy as np\n",
    "\n",
    "# show whole image\n",
    "img = mpimg.imread('resources/images/macy_parade.jpg')\n",
    "print(f\"Image dimensions: {img.shape}\")\n",
    "plt.imshow(img)\n",
    "plt.show()\n",
    "\n",
    "# show sub-image\n",
    "subImage = img[500:700, 1200:1700, :]\n",
    "print(f\"Image dimensions: {subImage.shape}\")\n",
    "plt.imshow(subImage)\n",
    "plt.show()\n",
    "\n",
    "# show single color with cmap switched to greyscale\n",
    "subImage = img[500:700, 1200:1700, 1]\n",
    "print(f\"Image dimensions: {subImage.shape}\")\n",
    "plt.imshow(subImage, cmap='gray', vmin=0, vmax=255)\n",
    "plt.show()"
   ]
  },
  {
   "cell_type": "markdown",
   "metadata": {},
   "source": [
    "## 16: Animation\n",
    "\n",
    "As a final example, we look at some simple animation."
   ]
  },
  {
   "cell_type": "code",
   "execution_count": null,
   "metadata": {},
   "outputs": [],
   "source": [
    "%matplotlib widget\n",
    "from mpl_toolkits.mplot3d import Axes3D\n",
    "import matplotlib.animation as animation\n",
    "import matplotlib.pyplot as plt\n",
    "from IPython import display\n",
    "import numpy as np\n",
    "\n",
    "fig = plt.figure()\n",
    "ax = fig.gca(projection=\"3d\")\n",
    "\n",
    "plt.rcParams['figure.dpi'] = 600\n",
    "elevation = 10\n",
    "viewing_angle = 125\n",
    "\n",
    "ax.view_init(elev=elevation, azim=viewing_angle)\n",
    "line, = ax.plot([], [], [], lw=2)\n",
    "line2, = ax.plot([], [], [], 'ro')\n",
    "\n",
    "ax.set_xlabel('X')\n",
    "ax.set_ylabel('Y')\n",
    "ax.set_zlabel('Z')\n",
    "ax.set_xlim3d([-1.0, 200.0])\n",
    "ax.set_ylim3d([-1.0, 2000.0])\n",
    "ax.set_zlim3d([-1.0, 10.0])\n",
    "ax.set_autoscale_on(False)\n",
    "\n",
    "dt = 0.01\n",
    "\n",
    "def init():\n",
    "    line2.set_data(0, 0)\n",
    "    line2.set_3d_properties(0)\n",
    "    return line2\n",
    "\n",
    "def animate(i):\n",
    "    t = np.arange(i*5*dt, i*5*dt+3, dt)\n",
    "    x = 2*t**3+1\n",
    "    x = 2*x\n",
    "    y = 2*t**2\n",
    "    z = t\n",
    "    # there is no set_data for 3D, so you have to do it this way\n",
    "    line.set_data(x, y)\n",
    "    line.set_3d_properties(z)\n",
    "    return line        # the artist to be updated\n",
    "\n",
    "# create animation object\n",
    "# note anim keeps a reference to the FuncAnimation object\n",
    "# without which the animation dies premeturely\n",
    "animationObject = animation.FuncAnimation(fig, animate, init_func=init, \\\n",
    "                                             frames=150, interval=250)\n",
    "plt.gcf().canvas.set_window_title(\"3D Curve Animation\")\n",
    "plt.show()"
   ]
  }
 ],
 "metadata": {
  "anaconda-cloud": {},
  "kernelspec": {
   "display_name": "Python 3",
   "language": "python",
   "name": "python3"
  },
  "language_info": {
   "codemirror_mode": {
    "name": "ipython",
    "version": 3
   },
   "file_extension": ".py",
   "mimetype": "text/x-python",
   "name": "python",
   "nbconvert_exporter": "python",
   "pygments_lexer": "ipython3",
   "version": "3.8.3"
  }
 },
 "nbformat": 4,
 "nbformat_minor": 4
}
