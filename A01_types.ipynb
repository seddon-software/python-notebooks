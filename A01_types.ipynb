{
 "cells": [
  {
   "cell_type": "markdown",
   "metadata": {},
   "source": [
    "<div style=\"color:red;background-color:black\">\n",
    "Diamond Light Source\n",
    "<br style=\"color:red;background-color:antiquewhite\"><h1>Python Language: Types</h1><br>\n",
    "©2000-20 Chris Seddon \n",
    "</div>"
   ]
  },
  {
   "cell_type": "markdown",
   "metadata": {},
   "source": [
    "## 1\n",
    "Let's start with a very simple program:"
   ]
  },
  {
   "cell_type": "code",
   "execution_count": null,
   "metadata": {},
   "outputs": [],
   "source": [
    "x = 100\n",
    "x = 5.841\n",
    "x = \"hello\"\n",
    "x = 'hello'\n",
    "x = True\n",
    "x = [7, 5, 4, 9]\n",
    "x = (3, 8, 2, 9)"
   ]
  },
  {
   "cell_type": "markdown",
   "metadata": {},
   "source": [
    "## 2\n",
    "In the above example the variable `x` is set to various types of data.  Let's see what types are involved:"
   ]
  },
  {
   "cell_type": "code",
   "execution_count": null,
   "metadata": {},
   "outputs": [],
   "source": [
    "x = 100;          print(type(x))\n",
    "x = 5.841;        print(type(x))\n",
    "x = \"hello\";      print(type(x))\n",
    "x = 'hello';      print(type(x))\n",
    "x = True;         print(type(x))\n",
    "x = [7, 5, 4, 9]; print(type(x))\n",
    "x = (3, 8, 2, 9); print(type(x))"
   ]
  },
  {
   "cell_type": "markdown",
   "metadata": {},
   "source": [
    "## 3\n",
    "In the above program `x` appears to be changing type on each line.  However this is a misleading.  The variable `x` is actually a pointer (or more correctly an \"object reference\") and can point at different types of objects.  \n",
    "\n",
    "100 is an `int` object, `5.841` is a float object, `'hello'` and `\"hello\"` are a string objects (you can use either single or double quotes for strings).\n",
    "\n",
    "The [] indicates a list object and the round braclets a tuple.  List and tuples are essentially arrays; a tuple is read only (immutable) and a list is read/write (muable)."
   ]
  },
  {
   "cell_type": "code",
   "execution_count": null,
   "metadata": {},
   "outputs": [],
   "source": [
    "x = 100\n",
    "print(id(x))\n",
    "x = 34.78\n",
    "print(id(x))\n",
    "x = \"Hello\"\n",
    "print(id(x))\n",
    "x = [2,8,3,7]\n",
    "print(id(x))"
   ]
  },
  {
   "cell_type": "markdown",
   "metadata": {},
   "source": [
    "## 4\n",
    "The Python language is implemented in C.  The above data is stored in memory using C data structures.  \n",
    "Let's see a diagram:\n",
    "<img src='resources/images/Slide13.jpg'>"
   ]
  },
  {
   "cell_type": "code",
   "execution_count": null,
   "metadata": {},
   "outputs": [],
   "source": [
    "x = [10, 20, 30, 40]\n",
    "x.append(99)\n",
    "print(x)"
   ]
  }
 ],
 "metadata": {
  "kernelspec": {
   "display_name": "Python 3",
   "language": "python",
   "name": "python3"
  },
  "language_info": {
   "codemirror_mode": {
    "name": "ipython",
    "version": 3
   },
   "file_extension": ".py",
   "mimetype": "text/x-python",
   "name": "python",
   "nbconvert_exporter": "python",
   "pygments_lexer": "ipython3",
   "version": "3.7.1"
  }
 },
 "nbformat": 4,
 "nbformat_minor": 4
}
