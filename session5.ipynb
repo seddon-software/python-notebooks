{
 "cells": [
  {
   "cell_type": "code",
   "execution_count": 1,
   "metadata": {},
   "outputs": [
    {
     "name": "stdout",
     "output_type": "stream",
     "text": [
      "41333.333333333336\n"
     ]
    }
   ],
   "source": [
    "p1 = \"Joe\"\n",
    "p2 = \"Sue\"\n",
    "p3 = \"Ali\"\n",
    "p1_salary = 45000\n",
    "p2_salary = 78000\n",
    "p3_salary = 41000\n",
    "\n",
    "average = (p1_salary + p2_salary + p3_salary) / 3\n",
    "print(average)"
   ]
  },
  {
   "cell_type": "code",
   "execution_count": 3,
   "metadata": {},
   "outputs": [
    {
     "name": "stdout",
     "output_type": "stream",
     "text": [
      "{'Joe': 45000, 'Sue': 78000, 'Ali': 41000, 'Thomas': 55500, 'Vivian': 61000}\n"
     ]
    }
   ],
   "source": [
    "salary = {}\n",
    "salary[\"Joe\"] = 45000\n",
    "salary[\"Sue\"] = 78000\n",
    "salary[\"Ali\"] = 41000\n",
    "salary[\"Thomas\"] = 55500\n",
    "salary[\"Vivian\"] = 61000\n",
    "print(salary)\n"
   ]
  },
  {
   "cell_type": "code",
   "execution_count": 13,
   "metadata": {},
   "outputs": [
    {
     "name": "stdout",
     "output_type": "stream",
     "text": [
      "{'Joe': 45000, 'Sue': 78000, 'Ali': 41000, 'Thomas': 55500, 'Vivian': 61000}\n"
     ]
    }
   ],
   "source": [
    "salary = {'Joe'    : 45000, \n",
    "          'Sue'    : 78000, \n",
    "          'Ali'    : 41000, \n",
    "          'Thomas' : 55500, \n",
    "          'Vivian' : 61000}\n",
    "print(salary)"
   ]
  },
  {
   "cell_type": "code",
   "execution_count": 14,
   "metadata": {},
   "outputs": [
    {
     "name": "stdout",
     "output_type": "stream",
     "text": [
      "Joe\n",
      "Sue\n",
      "Ali\n",
      "Thomas\n",
      "Vivian\n"
     ]
    }
   ],
   "source": [
    "for key in salary:\n",
    "    print(key)"
   ]
  },
  {
   "cell_type": "code",
   "execution_count": 17,
   "metadata": {},
   "outputs": [
    {
     "name": "stdout",
     "output_type": "stream",
     "text": [
      "0 Joe\n",
      "1 Sue\n",
      "2 Ali\n",
      "3 Thomas\n",
      "4 Vivian\n"
     ]
    }
   ],
   "source": [
    "for index, key in enumerate(salary):\n",
    "    print(index, key)"
   ]
  },
  {
   "cell_type": "code",
   "execution_count": 16,
   "metadata": {},
   "outputs": [
    {
     "name": "stdout",
     "output_type": "stream",
     "text": [
      "Joe 45000\n",
      "Sue 78000\n",
      "Ali 41000\n",
      "Thomas 55500\n",
      "Vivian 61000\n"
     ]
    }
   ],
   "source": [
    "for key, value in salary.items():\n",
    "    print(key, value)"
   ]
  },
  {
   "cell_type": "code",
   "execution_count": 20,
   "metadata": {},
   "outputs": [
    {
     "name": "stdout",
     "output_type": "stream",
     "text": [
      "['Joe', 'Sue', 'Ali', 'Thomas', 'Vivian']\n",
      "['Ali', 'Joe', 'Sue', 'Thomas', 'Vivian']\n"
     ]
    }
   ],
   "source": [
    "theKeys = list(salary.keys())\n",
    "print(theKeys)\n",
    "theKeys.sort()\n",
    "print(theKeys)"
   ]
  },
  {
   "cell_type": "code",
   "execution_count": 24,
   "metadata": {},
   "outputs": [
    {
     "name": "stdout",
     "output_type": "stream",
     "text": [
      "Ali 41000\n",
      "Joe 45000\n",
      "Sue 78000\n",
      "Thomas 55500\n",
      "Vivian 61000\n"
     ]
    }
   ],
   "source": [
    "for key in theKeys:\n",
    "    print(key, salary[key])"
   ]
  },
  {
   "cell_type": "code",
   "execution_count": 34,
   "metadata": {},
   "outputs": [
    {
     "name": "stdout",
     "output_type": "stream",
     "text": [
      "[45000, 78000, 41000, 55500, 61000]\n",
      "[41000, 45000, 55500, 61000, 78000]\n",
      "56100.0\n",
      "78000\n",
      "skip this one\n",
      "Sue\n",
      "skip this one\n",
      "skip this one\n",
      "skip this one\n"
     ]
    }
   ],
   "source": [
    "theValues = list(salary.values())\n",
    "print(theValues)\n",
    "theValues.sort()\n",
    "print(theValues)\n",
    "average = sum(theValues)/len(theValues)\n",
    "print(average)\n",
    "maximum = max(theValues)\n",
    "print(maximum)\n",
    "for key, value in salary.items():\n",
    "    if value == maximum:\n",
    "        print(key)\n",
    "    else:\n",
    "        print(\"skip this one\")"
   ]
  },
  {
   "cell_type": "code",
   "execution_count": null,
   "metadata": {},
   "outputs": [],
   "source": [
    "list tuple dict(hashes)"
   ]
  },
  {
   "cell_type": "code",
   "execution_count": null,
   "metadata": {},
   "outputs": [],
   "source": []
  }
 ],
 "metadata": {
  "kernelspec": {
   "display_name": "Python 3",
   "language": "python",
   "name": "python3"
  },
  "language_info": {
   "codemirror_mode": {
    "name": "ipython",
    "version": 3
   },
   "file_extension": ".py",
   "mimetype": "text/x-python",
   "name": "python",
   "nbconvert_exporter": "python",
   "pygments_lexer": "ipython3",
   "version": "3.7.3"
  }
 },
 "nbformat": 4,
 "nbformat_minor": 4
}
