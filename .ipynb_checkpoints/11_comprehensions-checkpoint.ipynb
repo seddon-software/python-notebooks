{
 "cells": [
  {
   "cell_type": "markdown",
   "metadata": {},
   "source": [
    "<div style=\"color:red;background-color:black\">\n",
    "Diamond Light Source\n",
    "\n",
    "<h1 style=\"color:red;background-color:antiquewhite\"> Python Fundamentals: Comprehensions</h1>  \n",
    "\n",
    "©2000-20 Chris Seddon \n",
    "</div>"
   ]
  },
  {
   "cell_type": "markdown",
   "metadata": {},
   "source": [
    "Execute the following cell to activate styling for this tutorial"
   ]
  },
  {
   "cell_type": "code",
   "execution_count": 1,
   "metadata": {},
   "outputs": [
    {
     "data": {
      "text/html": [
       "<style>/* GLOBALS */\n",
       "/* body {background-color: #f7f7f7;} */\n",
       ".text_cell {background-color: cornsilk;}\n",
       ".code_cell { background-color: lightskyblue; }\n",
       ".selected { background-color: peachpuff; }\n",
       ".output { background-color: aliceblue; }\n",
       "\n",
       "</style>"
      ],
      "text/plain": [
       "<IPython.core.display.HTML object>"
      ]
     },
     "execution_count": 1,
     "metadata": {},
     "output_type": "execute_result"
    }
   ],
   "source": [
    "from IPython.display import HTML\n",
    "HTML(f\"<style>{open('my.css').read()}</style>\")"
   ]
  },
  {
   "cell_type": "markdown",
   "metadata": {},
   "source": [
    "## 1\n",
    "As discussed elsewhere, everything is immutable in Functional programming.  As a consequence, functional programmers do not want to use \"for\" loops because the loop counter is mutable.  As an alternative, Python offers a \"list comprehension\" that only uses immutable elements.\n",
    "\n",
    "In the following example, the comprehension:\n",
    "<pre>[x**3 for x in (1, 2, 3, 4, 5)]</pre>\n",
    "is read as <pre>for every value x in the tuple, compute x\\**3</pre>\n",
    "Thus you read comprehensions back to front; the for clause first and the cpmutation (x\\**3) last.  Many people find this confusing at first, but you soon get used to it.  \n",
    "\n",
    "A subtle point (lost on some people) is that despite appearances, \"x\" is immutable.  That's because there are 5 different \"x\"s that are all immutable, rather than one \"x\" that is mutable.  \n",
    "\n",
    "And finally, note that the comprehension produces a list (which paradoxically is mutable!):"
   ]
  },
  {
   "cell_type": "code",
   "execution_count": 2,
   "metadata": {},
   "outputs": [
    {
     "name": "stdout",
     "output_type": "stream",
     "text": [
      "[1, 8, 27, 64, 125]\n"
     ]
    }
   ],
   "source": [
    "n = [x**3 for x in (1, 2, 3, 4, 5)]\n",
    "print(n)"
   ]
  },
  {
   "cell_type": "markdown",
   "metadata": {},
   "source": [
    "## 2\n",
    "We often use the \"range\" generator in a list comprehension:"
   ]
  },
  {
   "cell_type": "code",
   "execution_count": 3,
   "metadata": {},
   "outputs": [
    {
     "name": "stdout",
     "output_type": "stream",
     "text": [
      "[0, 1, 8, 27, 64, 125, 216, 343, 512, 729]\n"
     ]
    }
   ],
   "source": [
    "n = [x**3 for x in range(10)]\n",
    "print(n)"
   ]
  },
  {
   "cell_type": "markdown",
   "metadata": {},
   "source": [
    "## 3 \n",
    "The sequence used in the for clause can be filtered.  The following example only computes x\\**3 for even values of x because of the filter <pre>if x%2 == 0</pre>"
   ]
  },
  {
   "cell_type": "code",
   "execution_count": 4,
   "metadata": {
    "slideshow": {
     "slide_type": "slide"
    }
   },
   "outputs": [
    {
     "name": "stdout",
     "output_type": "stream",
     "text": [
      "[0, 8, 64, 216, 512]\n"
     ]
    }
   ],
   "source": [
    "n = [x**3 for x in range(10) if x%2 == 0]\n",
    "print(n)"
   ]
  },
  {
   "cell_type": "markdown",
   "metadata": {},
   "source": [
    "## 4\n",
    "The comprehension is really performing a transformation on a sequence, subject to optional filtering.  The following example confuses many, but is actually the identity transformation.  \n",
    "\n",
    "The identity transformation is this part of the comprehension:<pre>[x for x in ...</pre>\n",
    "\n",
    "So only the filter is effective in this example:"
   ]
  },
  {
   "cell_type": "code",
   "execution_count": 5,
   "metadata": {},
   "outputs": [
    {
     "name": "stdout",
     "output_type": "stream",
     "text": [
      "[0, 2, 4, 6, 8, 10, 12, 14, 16, 18]\n"
     ]
    }
   ],
   "source": [
    "n = [x for x in range(20) if x%2 == 0]\n",
    "print(n)"
   ]
  },
  {
   "cell_type": "markdown",
   "metadata": {},
   "source": [
    "## 5\n",
    "Comprehensions don't just work with numbers - we can use any data type as the sequence.  Here is an example where we compute the length of each string in a sequence of strings:"
   ]
  },
  {
   "cell_type": "code",
   "execution_count": 6,
   "metadata": {},
   "outputs": [
    {
     "name": "stdout",
     "output_type": "stream",
     "text": [
      "[9, 4, 5, 2, 9, 10, 4]\n"
     ]
    }
   ],
   "source": [
    "n = [len(s) for s in (\"sometimes\", \"this\", \"leads\", \"to\", \"difficult\", \"understand\", \"code\")]\n",
    "print(n)"
   ]
  },
  {
   "cell_type": "markdown",
   "metadata": {},
   "source": [
    "## 6\n",
    "In all of the examples so far, the compute clause has generated a number.  Whilst this is common, other possibilities exist.  In this example, the computation stage compute strings with all their characters reversed: "
   ]
  },
  {
   "cell_type": "code",
   "execution_count": 7,
   "metadata": {},
   "outputs": [
    {
     "name": "stdout",
     "output_type": "stream",
     "text": [
      "['semitemos', 'siht', 'sdael', 'ot', 'tluciffid', 'dnatsrednu', 'edoc']\n"
     ]
    }
   ],
   "source": [
    "n = [s[::-1] for s in (\"sometimes\", \"this\", \"leads\", \"to\", \"difficult\", \"understand\", \"code\")]\n",
    "print(n)"
   ]
  },
  {
   "cell_type": "markdown",
   "metadata": {},
   "source": [
    "## 7\n",
    "Another possibility is to compute a list for each item in the given sequence.  \n",
    "\n",
    "In the example below we split each of the input strings into lists, based on the space as a delimiter:"
   ]
  },
  {
   "cell_type": "code",
   "execution_count": 8,
   "metadata": {},
   "outputs": [
    {
     "name": "stdout",
     "output_type": "stream",
     "text": [
      "[['one'], ['one', 'two'], ['one', 'two', 'three'], ['one', 'two', 'three', 'four']]\n"
     ]
    }
   ],
   "source": [
    "n = [s.split() for s in (\"one\", \"one two\", \"one two three\", \"one two three four\")]\n",
    "print(n)"
   ]
  },
  {
   "cell_type": "markdown",
   "metadata": {},
   "source": [
    "## 8\n",
    "Normally a comprehension works on a sequence, but sometimes it would be helpful if we could work with a combination of 2 or more sequences.  This can be achieved using \"zip\".  Here we form a f-string based on a pair of strings, for each element returned by zip.  So you can see what is happening, I've shown the output from zip as well as the final list generated by the comprehensions.  \n",
    "\n",
    "zip will return a matching pair of strings from the 2 lists below:"
   ]
  },
  {
   "cell_type": "code",
   "execution_count": 9,
   "metadata": {},
   "outputs": [
    {
     "name": "stdout",
     "output_type": "stream",
     "text": [
      "red kite\n",
      "blue tit\n",
      "green finch\n",
      "\n",
      "['red kite', 'blue tit', 'green finch']\n"
     ]
    }
   ],
   "source": [
    "for s1,s2 in zip(['red', 'blue', 'green'], ['kite', 'tit', 'finch']):\n",
    "    print(f\"{s1} {s2}\")\n",
    "print()\n",
    "\n",
    "n = [f\"{s1} {s2}\" for s1,s2 in zip(['red', 'blue', 'green'], ['kite', 'tit', 'finch'])]\n",
    "print(n)"
   ]
  },
  {
   "cell_type": "markdown",
   "metadata": {},
   "source": [
    "## 9\n",
    "You are not restricted to working with a single sequence.  Consider this example where we have multiple sequences.  In the example below, the fragment <pre>[... for x in range(5) for y in range(7)]</pre>\n",
    "means for every combination of x and y (the outer product of the sequences); this will be 35 items.\n"
   ]
  },
  {
   "cell_type": "code",
   "execution_count": 10,
   "metadata": {},
   "outputs": [
    {
     "name": "stdout",
     "output_type": "stream",
     "text": [
      "[(0, 0), (0, 1), (0, 2), (0, 3), (0, 4), (0, 5), (0, 6), (1, 0), (1, 1), (1, 2), (1, 3), (1, 4), (1, 5), (1, 6), (2, 0), (2, 1), (2, 2), (2, 3), (2, 4), (2, 5), (2, 6), (3, 0), (3, 1), (3, 2), (3, 3), (3, 4), (3, 5), (3, 6), (4, 0), (4, 1), (4, 2), (4, 3), (4, 4), (4, 5), (4, 6)]\n"
     ]
    }
   ],
   "source": [
    "n = [(x,y) for x in range(5) for y in range(7)]\n",
    "print(n)"
   ]
  },
  {
   "cell_type": "markdown",
   "metadata": {},
   "source": [
    "## 10\n",
    "Comprehension can be nested, although sometimes this leads to difficult understand code.  Hopefully, the following example is more understandable.  \n",
    "\n",
    "We have a double list comprehension, resulting in a 2 dimensional list:"
   ]
  },
  {
   "cell_type": "code",
   "execution_count": 11,
   "metadata": {},
   "outputs": [
    {
     "name": "stdout",
     "output_type": "stream",
     "text": [
      "[[1, 8, 27], [64, 125, 216], [343, 512, 729]]\n"
     ]
    }
   ],
   "source": [
    "matrix = [[1, 2, 3], [4, 5, 6], [7, 8, 9]]\n",
    "\n",
    "cubes = [[col**3 for col in row] for row in matrix]\n",
    "print(cubes)"
   ]
  },
  {
   "cell_type": "markdown",
   "metadata": {},
   "source": [
    "## 11\n",
    "List comprehensions are not the only type of comprehension in Python.  The vast majority of comprehensions are list comprehensions, but other types exist:\n",
    "* dict comprehension\n",
    "* set comprehension\n",
    "* generator comprehension\n",
    "\n",
    "Let's start with a dict comprehension.  These comprehensions are indicated by { } brackets; they produce a set of key-values pairs for each item in the given sequence.  \n",
    "\n",
    "In this example the keys will be computed as x\\*\\*2 and the values will be computed as x\\*\\*3:"
   ]
  },
  {
   "cell_type": "code",
   "execution_count": 12,
   "metadata": {},
   "outputs": [
    {
     "name": "stdout",
     "output_type": "stream",
     "text": [
      "{0: 0, 4: 8, 16: 64, 36: 216, 64: 512, 100: 1000, 144: 1728, 196: 2744, 256: 4096, 324: 5832}\n"
     ]
    }
   ],
   "source": [
    "d = {x**2: x**3 for x in range(20) if x%2 == 0}\n",
    "print(d)"
   ]
  },
  {
   "cell_type": "markdown",
   "metadata": {
    "slideshow": {
     "slide_type": "subslide"
    }
   },
   "source": [
    "## 12\n",
    "Next is the set comprehension.  These comprehensions also uses { } brackets but have no colon in the compute clause.  For example:\n",
    "* dict comprehension: { key:value for ...\n",
    "* set comprehension: { value for ...\n",
    "\n",
    "In this set comprehension our sequence is the outer product of two sequences.  We form a set by computing x + y for x's in the range 0 through 9 and y's in the range 0 through 9.  Remember that duplicates are removed in a set, so we will end up with all numbers between 0 (0+0) and 18 (9+9) "
   ]
  },
  {
   "cell_type": "code",
   "execution_count": 13,
   "metadata": {
    "slideshow": {
     "slide_type": "slide"
    }
   },
   "outputs": [
    {
     "name": "stdout",
     "output_type": "stream",
     "text": [
      "{0, 1, 2, 3, 4, 5, 6, 7, 8, 9, 10, 11, 12, 13, 14, 15, 16, 17, 18}\n"
     ]
    }
   ],
   "source": [
    "n = { x + y for x in range(10) for y in range(10) }\n",
    "print(n)"
   ]
  },
  {
   "cell_type": "markdown",
   "metadata": {},
   "source": [
    "## 13\n",
    "Finally we will look a generator comprehensions.  \n",
    "\n",
    "Generator comprehension use ( ) brackets.  Furthermore, because we are working with generators, the results are lazily evaluated.\n",
    "\n",
    "In this example the generator will eventually \"compute\" sleep for 0, 3, 6 and 9 seconds.  However, each sleep will be evaluated as requested.\n",
    "\n",
    "In the following example we only ask the generator to compute the first sleep; this won't take any time at all."
   ]
  },
  {
   "cell_type": "code",
   "execution_count": 14,
   "metadata": {},
   "outputs": [
    {
     "name": "stdout",
     "output_type": "stream",
     "text": [
      "<class 'generator'>\n",
      "sleep(0) done\n"
     ]
    }
   ],
   "source": [
    "import time\n",
    "g = (time.sleep(n) for n in range(0, 12, 3))\n",
    "print( type(g) )\n",
    "next(g)\n",
    "print(\"sleep(0) done\")"
   ]
  },
  {
   "cell_type": "markdown",
   "metadata": {},
   "source": [
    "## 14\n",
    "If we call next again on our generator we will continue to evaluate laziliy and sleep for just 3 seconds.  The 6 and 9 second sleep events will not yet be evaluated.\n",
    "\n",
    "Please wait until the output appears (3 seconds)."
   ]
  },
  {
   "cell_type": "code",
   "execution_count": 15,
   "metadata": {},
   "outputs": [
    {
     "name": "stdout",
     "output_type": "stream",
     "text": [
      "sleep(3) done\n"
     ]
    }
   ],
   "source": [
    "next(g)\n",
    "print(\"sleep(3) done\")"
   ]
  },
  {
   "cell_type": "markdown",
   "metadata": {},
   "source": [
    "## 15\n",
    "It will take a further 6 + 9 seconds to exhaust the generator (please be prepared to wait 15 seconds before the output appears):"
   ]
  },
  {
   "cell_type": "code",
   "execution_count": 16,
   "metadata": {},
   "outputs": [
    {
     "name": "stdout",
     "output_type": "stream",
     "text": [
      "sleep(6) and sleep(9) done, generator exhausted\n"
     ]
    }
   ],
   "source": [
    "next(g)\n",
    "next(g)\n",
    "print(\"sleep(6) and sleep(9) done, generator exhausted\")"
   ]
  },
  {
   "cell_type": "markdown",
   "metadata": {},
   "source": [
    "## 16\n",
    "Finally, compare the generator comprehension with the corresponding tuple.  The same sleep events occur, but the tuple evaluates eagerly.  Thus the whole tuple is ecaluated before the statement returns.  \n",
    "\n",
    "So prepare to wait for 0 + 3 + 6 + 9 = 18 seconds!"
   ]
  },
  {
   "cell_type": "code",
   "execution_count": 17,
   "metadata": {},
   "outputs": [
    {
     "name": "stdout",
     "output_type": "stream",
     "text": [
      "all sleeps done\n"
     ]
    }
   ],
   "source": [
    "import time\n",
    "t = (time.sleep(0), time.sleep(3), time.sleep(6), time.sleep(9))\n",
    "print(\"all sleeps done\")"
   ]
  },
  {
   "cell_type": "code",
   "execution_count": null,
   "metadata": {},
   "outputs": [],
   "source": []
  }
 ],
 "metadata": {
  "kernelspec": {
   "display_name": "Python 3",
   "language": "python",
   "name": "python3"
  },
  "language_info": {
   "codemirror_mode": {
    "name": "ipython",
    "version": 3
   },
   "file_extension": ".py",
   "mimetype": "text/x-python",
   "name": "python",
   "nbconvert_exporter": "python",
   "pygments_lexer": "ipython3",
   "version": "3.7.3"
  }
 },
 "nbformat": 4,
 "nbformat_minor": 4
}
