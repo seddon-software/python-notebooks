{
 "cells": [
  {
   "cell_type": "markdown",
   "metadata": {},
   "source": [
    "<div style=\"color:red;background-color:black\">\n",
    "Diamond Light Source\n",
    "\n",
    "<h1 style=\"color:red;background-color:antiquewhite\"> Python Fundamentals: Iterators and Generators</h1>  \n",
    "\n",
    "©2000-20 Chris Seddon \n",
    "</div>"
   ]
  },
  {
   "cell_type": "markdown",
   "metadata": {},
   "source": [
    "## 1\n",
    "Execute the following cell to activate styling for this tutorial"
   ]
  },
  {
   "cell_type": "code",
   "execution_count": 1,
   "metadata": {},
   "outputs": [
    {
     "data": {
      "text/html": [
       "<style>/* GLOBALS */\n",
       "/* body {background-color: #f7f7f7;} */\n",
       ".text_cell {background-color: cornsilk;}\n",
       ".code_cell { background-color: lightskyblue; }\n",
       ".selected { background-color: peachpuff; }\n",
       ".output { background-color: aliceblue; }\n",
       "\n",
       "</style>"
      ],
      "text/plain": [
       "<IPython.core.display.HTML object>"
      ]
     },
     "execution_count": 1,
     "metadata": {},
     "output_type": "execute_result"
    }
   ],
   "source": [
    "from IPython.display import HTML\n",
    "HTML(f\"<style>{open('my.css').read()}</style>\")"
   ]
  },
  {
   "cell_type": "markdown",
   "metadata": {},
   "source": [
    "## 2\n",
    "In this tutorial we will investigate iterators and generators.\n",
    "\n",
    "Iterators are defined as objects of any class that has the following two methods defined:\n",
    "<pre>\n",
    "__iter__\n",
    "__next__</pre>\n",
    "\n",
    "Generators are a special class of functions that simplify the task of writing iterators. Regular functions compute a value and return it, but generators return an iterator that returns a stream of values.\n",
    "\n",
    "Let's start with a simple iterator class that computes Fibonacci numbers:"
   ]
  },
  {
   "cell_type": "code",
   "execution_count": 2,
   "metadata": {},
   "outputs": [],
   "source": [
    "class Fibonacci:\n",
    "    def __init__(self):\n",
    "        self.x,self.y = 0,1\n",
    "        \n",
    "    def __iter__(self):\n",
    "        return self  # the object on which to call next() - usually ourself\n",
    "\n",
    "    def __next__(self):\n",
    "        if self.x > 100:\n",
    "            raise StopIteration     # indicate end of iteration\n",
    "        \n",
    "        self.x, self.y = self.y, self.x + self.y\n",
    "        return self.x"
   ]
  },
  {
   "cell_type": "markdown",
   "metadata": {},
   "source": [
    "## 3\n",
    "Using the above class we can instantiate an iterator.  We can then use the iterator to produce a list of Fibonacci numbers.  \n",
    "\n",
    "Instead of calling \"\\__next__\" directly, the Python documentation recommends using the built-in function \"next\" to produce the Fibonacci numbers:"
   ]
  },
  {
   "cell_type": "code",
   "execution_count": 3,
   "metadata": {},
   "outputs": [
    {
     "name": "stdout",
     "output_type": "stream",
     "text": [
      "1\n",
      "1\n",
      "2\n",
      "3\n",
      "5\n",
      "8\n",
      "13\n",
      "21\n",
      "34\n"
     ]
    }
   ],
   "source": [
    "# create an iterator\n",
    "iterator = Fibonacci()\n",
    "\n",
    "# create a stream of Fibonacci numbers\n",
    "print( next(iterator) )\n",
    "print( next(iterator) )\n",
    "print( next(iterator) )\n",
    "print( next(iterator) )\n",
    "print( next(iterator) )\n",
    "print( next(iterator) )\n",
    "print( next(iterator) )\n",
    "print( next(iterator) )\n",
    "print( next(iterator) )"
   ]
  },
  {
   "cell_type": "markdown",
   "metadata": {},
   "source": [
    "## 4 \n",
    "Python has special support for iterators.  Every \"for\" loop works with iterators.  For example in the following example the data 5, 6, 2, 8 is actual a tuple and a tuple is a built-in iterator.  We can't see the code for the tuple, but the \"for\" loop is calling the tuple's \"\\__next__\" method repeatedly."
   ]
  },
  {
   "cell_type": "code",
   "execution_count": 4,
   "metadata": {
    "slideshow": {
     "slide_type": "slide"
    }
   },
   "outputs": [
    {
     "name": "stdout",
     "output_type": "stream",
     "text": [
      "5\n",
      "6\n",
      "2\n",
      "8\n"
     ]
    }
   ],
   "source": [
    "for n in 5, 6, 2, 8:\n",
    "    print(n)"
   ]
  },
  {
   "cell_type": "markdown",
   "metadata": {},
   "source": [
    "## 5\n",
    "We can use our iterator in a \"for\" loop.  Note that we have arranged for the iterator to terminate when the Fibonacci numbers exceed 100:"
   ]
  },
  {
   "cell_type": "code",
   "execution_count": 5,
   "metadata": {},
   "outputs": [
    {
     "name": "stdout",
     "output_type": "stream",
     "text": [
      "1\n",
      "1\n",
      "2\n",
      "3\n",
      "5\n",
      "8\n",
      "13\n",
      "21\n",
      "34\n",
      "55\n",
      "89\n",
      "144\n"
     ]
    }
   ],
   "source": [
    "for n in Fibonacci():\n",
    "    print(n)"
   ]
  },
  {
   "cell_type": "markdown",
   "metadata": {},
   "source": [
    "## 6\n",
    "If we repeat the above exercise but this time add trace statements in our class, we can see that the \"for\" loop automatically calls the iterator methods:"
   ]
  },
  {
   "cell_type": "code",
   "execution_count": 6,
   "metadata": {},
   "outputs": [
    {
     "name": "stdout",
     "output_type": "stream",
     "text": [
      "__init__\n",
      "__iter__\n",
      "__next__\n",
      "1\n",
      "__next__\n",
      "1\n",
      "__next__\n",
      "2\n",
      "__next__\n",
      "3\n",
      "__next__\n",
      "5\n",
      "__next__\n",
      "8\n",
      "__next__\n",
      "13\n",
      "__next__\n",
      "21\n",
      "__next__\n",
      "34\n",
      "__next__\n",
      "55\n",
      "__next__\n",
      "89\n",
      "__next__\n",
      "144\n",
      "__next__\n",
      "raising StopIteration exception\n"
     ]
    }
   ],
   "source": [
    "class Fibonacci:\n",
    "    def __init__(self):\n",
    "        print(\"__init__\")\n",
    "        self.x,self.y = 0,1\n",
    "        \n",
    "    def __iter__(self):\n",
    "        print(\"__iter__\")\n",
    "        return self  # the object on which to call next() - usually ourself\n",
    "\n",
    "    def __next__(self):\n",
    "        print(\"__next__\")\n",
    "        if self.x > 100:\n",
    "            print(\"raising StopIteration exception\")\n",
    "            raise StopIteration     # indicate end of iteration\n",
    "        \n",
    "        self.x, self.y = self.y, self.x + self.y\n",
    "        return self.x\n",
    "\n",
    "for n in Fibonacci():\n",
    "    print(n)"
   ]
  },
  {
   "cell_type": "markdown",
   "metadata": {},
   "source": [
    "## 7\n",
    "Now we can see what is happening.  The Python interpreter translates the loop into a series of calls to our iterator.  \n",
    "First the iterator is instantiated and \"\\__init__\" is called.  Then the \"for\" loop calls the iterator's \"\\___iter__\" method once to determine which object to iterate over.  This is normally the same object as we have just instantiated and hence the method returns \"self\".  \n",
    "\n",
    "The main part of the \"for\" loop is to call \"\\__next__\" repeatedly until the Fibonacci numbers exceed 100.  The loop terminates by catching the exception thrown in:\n",
    "<pre>if self.x > 100:\n",
    "    raise StopIteration</pre>\n",
    "\n",
    "Thus the for loop is equivalent to the following code:"
   ]
  },
  {
   "cell_type": "code",
   "execution_count": 7,
   "metadata": {},
   "outputs": [
    {
     "name": "stdout",
     "output_type": "stream",
     "text": [
      "__init__\n",
      "__iter__\n",
      "__next__\n",
      "1, __next__\n",
      "1, __next__\n",
      "2, __next__\n",
      "3, __next__\n",
      "5, __next__\n",
      "8, __next__\n",
      "13, __next__\n",
      "21, __next__\n",
      "34, __next__\n",
      "55, __next__\n",
      "89, __next__\n",
      "144, __next__\n",
      "raising StopIteration exception\n"
     ]
    }
   ],
   "source": [
    "try:\n",
    "    fib = Fibonacci()\n",
    "    iter = fib.__iter__()\n",
    "\n",
    "    f = iter.__next__()\n",
    "    print(f, end=\", \")\n",
    "\n",
    "    f = iter.__next__()\n",
    "    print(f, end=\", \")\n",
    "\n",
    "    f = iter.__next__()\n",
    "    print(f, end=\", \")\n",
    "\n",
    "    f = iter.__next__()\n",
    "    print(f, end=\", \")\n",
    "\n",
    "    f = iter.__next__()\n",
    "    print(f, end=\", \")\n",
    "\n",
    "    f = iter.__next__()\n",
    "    print(f, end=\", \")\n",
    "\n",
    "    f = iter.__next__()\n",
    "    print(f, end=\", \")\n",
    "\n",
    "    f = iter.__next__()\n",
    "    print(f, end=\", \")\n",
    "\n",
    "    f = iter.__next__()\n",
    "    print(f, end=\", \")\n",
    "\n",
    "    f = iter.__next__()\n",
    "    print(f, end=\", \")\n",
    "\n",
    "    f = iter.__next__()\n",
    "    print(f, end=\", \")\n",
    "\n",
    "    f = iter.__next__()\n",
    "    print(f, end=\", \")\n",
    "\n",
    "    f = iter.__next__()\n",
    "    print(f, end=\", \")\n",
    "\n",
    "except StopIteration as e:\n",
    "    pass"
   ]
  },
  {
   "cell_type": "markdown",
   "metadata": {
    "slideshow": {
     "slide_type": "subslide"
    }
   },
   "source": [
    "## 8\n",
    "Now let's turn our attention to generators; a generator is a special type of iterator.  Any function that contains a <pre>yield</pre> statement is a generator.\n",
    "\n",
    "Here is an example:"
   ]
  },
  {
   "cell_type": "code",
   "execution_count": 8,
   "metadata": {},
   "outputs": [],
   "source": [
    "def powers():\n",
    "    x = 1\n",
    "    while(x < 1000):\n",
    "        x = x * 2\n",
    "        yield x\n",
    "    return"
   ]
  },
  {
   "cell_type": "markdown",
   "metadata": {
    "slideshow": {
     "slide_type": "subslide"
    }
   },
   "source": [
    "## 9\n",
    "Generators are simpler than iterators because they don't involve writing a class.  Instead, when a generator is called it creates an iterator class behind the scenes and then instatiates and returns an iterator.  This is all done inside the Python interpreter, so we can't see the code generated.  \n",
    "\n",
    "Nevertheless we can check that an iterator is indeed created.  If we look at the iterator returned by calling the generator, we can use the built-in method \"hasattr\" to check if the iterator has \"\\__iter__\" and \"\\__next__\" methods:"
   ]
  },
  {
   "cell_type": "code",
   "execution_count": 9,
   "metadata": {},
   "outputs": [
    {
     "name": "stdout",
     "output_type": "stream",
     "text": [
      "Does g have an '__iter__' function? True\n",
      "Does g have an '__next__' function? True\n"
     ]
    }
   ],
   "source": [
    "# calling the function produces a generator object, which is also an iterator\n",
    "g = powers()\n",
    "\n",
    "# check that g has both iterator methods\n",
    "print(\"Does g have an '__iter__' function?\", hasattr(g, \"__iter__\"))\n",
    "print(\"Does g have an '__next__' function?\", hasattr(g, \"__next__\"))"
   ]
  },
  {
   "cell_type": "markdown",
   "metadata": {
    "slideshow": {
     "slide_type": "subslide"
    }
   },
   "source": [
    "## 10\n",
    "Let's use our generator in a loop.  The same considerations apply as per our Fibonacci iterator:"
   ]
  },
  {
   "cell_type": "code",
   "execution_count": 10,
   "metadata": {
    "slideshow": {
     "slide_type": "slide"
    }
   },
   "outputs": [
    {
     "name": "stdout",
     "output_type": "stream",
     "text": [
      "2\n",
      "4\n",
      "8\n",
      "16\n",
      "32\n",
      "64\n",
      "128\n",
      "256\n",
      "512\n",
      "1024\n"
     ]
    }
   ],
   "source": [
    "for n in powers():\n",
    "    print(n)"
   ]
  },
  {
   "cell_type": "markdown",
   "metadata": {
    "slideshow": {
     "slide_type": "subslide"
    }
   },
   "source": [
    "## 11\n",
    "The mechanics of a generator is quite simple.  Every time we call \"next\" directly or indirectly through a loop, code inside the generator is executed until we reach the yield statement.  It is the yield statement that returns the next value from the generator.  \n",
    "If we call \"next\" again, the generator continues execution from the yield statement until it hits a yield statement again.  This will happen repeatedly in our example because the yield statement is in a loop.\n",
    "\n",
    "Recall that we are really working with a iterator in memory that was instantiated by calling the generator.  The yield statement in the generator corresponds to the return statement in the iterator.\n",
    "\n",
    "Execution continues like this until there are no yield statements left and the generator reaches its return statement.  At this point the underlying iterator raises a \"StopIteration\" exception and this terminates the generator.  Any further calls will generate \"StopIteration\" exceptions.\n",
    "\n",
    "Let's put some trace calls into our generator to confirm this behaviour:"
   ]
  },
  {
   "cell_type": "code",
   "execution_count": 11,
   "metadata": {},
   "outputs": [
    {
     "name": "stdout",
     "output_type": "stream",
     "text": [
      "2\n",
      "statement after yield\n",
      "4\n",
      "statement after yield\n",
      "8\n",
      "statement after yield\n",
      "16\n",
      "statement after yield\n",
      "32\n",
      "statement after yield\n",
      "64\n",
      "statement after yield\n",
      "128\n",
      "statement after yield\n",
      "256\n",
      "statement after yield\n",
      "512\n",
      "statement after yield\n",
      "1024\n",
      "statement after yield\n",
      "about to terminate\n"
     ]
    }
   ],
   "source": [
    "def powers():\n",
    "    x = 1\n",
    "    while(x < 1000):\n",
    "        x = x * 2\n",
    "        yield x\n",
    "        print(\"statement after yield\")\n",
    "    print(\"about to terminate\")\n",
    "    return\n",
    "\n",
    "for n in powers():\n",
    "    print(n)"
   ]
  },
  {
   "cell_type": "markdown",
   "metadata": {},
   "source": [
    "## 12\n",
    "We can also use generators in a comprehension.  In the following example the expression: <pre>(sqrt(x) for x in range(10))</pre>\n",
    "defines a generator expression.  The round brackets are used to differentiate this comprehension from the other types of comprehension (list, dict and set comprehensions).  \n",
    "\n",
    "Note that a comprehension always uses the keywords \"for\" and \"in\".  That is what distinguishes comprehensions from tuples, lists, dicts and sets.\n",
    "\n",
    "Consider the following generator comprehension:"
   ]
  },
  {
   "cell_type": "code",
   "execution_count": 12,
   "metadata": {},
   "outputs": [],
   "source": [
    "from math import sqrt\n",
    "\n",
    "roots = (sqrt(x) for x in range(10))"
   ]
  },
  {
   "cell_type": "markdown",
   "metadata": {},
   "source": [
    "## 13\n",
    "A generator comprehension, like its generater counterpart only yield values when we ask it to do so:"
   ]
  },
  {
   "cell_type": "code",
   "execution_count": 13,
   "metadata": {},
   "outputs": [
    {
     "name": "stdout",
     "output_type": "stream",
     "text": [
      "0.0\n",
      "1.0\n",
      "1.4142135623730951\n",
      "1.7320508075688772\n"
     ]
    }
   ],
   "source": [
    "print( next(roots) )\n",
    "print( next(roots) )\n",
    "print( next(roots) )\n",
    "print( next(roots) )"
   ]
  },
  {
   "cell_type": "markdown",
   "metadata": {},
   "source": [
    "## 14\n",
    "Of course we can use the generator comprehension as the target of a loop; \"next\" will be called automatically:"
   ]
  },
  {
   "cell_type": "code",
   "execution_count": 14,
   "metadata": {},
   "outputs": [
    {
     "name": "stdout",
     "output_type": "stream",
     "text": [
      "2.0\n",
      "2.23606797749979\n",
      "2.449489742783178\n",
      "2.6457513110645907\n",
      "2.8284271247461903\n",
      "3.0\n"
     ]
    }
   ],
   "source": [
    "for n in roots:\n",
    "    print(n)"
   ]
  },
  {
   "cell_type": "markdown",
   "metadata": {},
   "source": [
    "## 15\n",
    "Note that the generator continued from where it had left off.  Earlier, we consumed 4 values from the generator comprehension and inspecting the code we see there were only 10 values available.  Hence the above code generated the last 6 values.  \n",
    "\n",
    "Now our generator comprehension is exhausted.  If we try to call next again, the generator comprehension will not be able to return anything and will raise a \"StopIteration\" exception:"
   ]
  },
  {
   "cell_type": "code",
   "execution_count": 15,
   "metadata": {},
   "outputs": [
    {
     "name": "stdout",
     "output_type": "stream",
     "text": [
      "no more values available\n"
     ]
    }
   ],
   "source": [
    "try:\n",
    "    print( next(roots) )\n",
    "except StopIteration as e:\n",
    "    print(\"no more values available\")"
   ]
  },
  {
   "cell_type": "markdown",
   "metadata": {},
   "source": [
    "## 16\n",
    "This leads to the concept that generators and generator comprehensions get consumed.  We can see similar behaviour if we use the built-in function sum on our generator expression (sum calls \"next\" until the comprehension is exhausted)."
   ]
  },
  {
   "cell_type": "code",
   "execution_count": 16,
   "metadata": {},
   "outputs": [
    {
     "name": "stdout",
     "output_type": "stream",
     "text": [
      "19.30600052603572\n",
      "0\n"
     ]
    }
   ],
   "source": [
    "from math import sqrt\n",
    "\n",
    "roots = (sqrt(x) for x in range(10))\n",
    "\n",
    "print(sum(roots))   # consume the generator comprehension\n",
    "print(sum(roots))   # the generator is now empty"
   ]
  },
  {
   "cell_type": "markdown",
   "metadata": {},
   "source": [
    "## 17\n",
    "The same applies to our \"powers\" generator that we defined earlier:"
   ]
  },
  {
   "cell_type": "code",
   "execution_count": 17,
   "metadata": {},
   "outputs": [
    {
     "name": "stdout",
     "output_type": "stream",
     "text": [
      "2046\n",
      "0\n"
     ]
    }
   ],
   "source": [
    "def powers():\n",
    "    x = 1\n",
    "    while(x < 1000):\n",
    "        x = x * 2\n",
    "        yield x\n",
    "    return\n",
    "\n",
    "g = powers()\n",
    "print(sum(g))   # consume the generator\n",
    "print(sum(g))   # the generator is now empty"
   ]
  },
  {
   "cell_type": "markdown",
   "metadata": {},
   "source": [
    "## 18\n",
    "Iterators and generators only return values when asked.  This is called lazy evaluation.  Structures like lists and tuples evaluate all the components immediately (eager evaluation).\n",
    "\n",
    "With lazy evaluation it is possible to define an infinite generator - one that will return values forever.  Of course we need to be careful when using an infinite generator in a loop - there has to be a way of avoiding looping forever.  \n",
    "Let's modify our \"powers\" generator such that it never returns.  It will then be an infinite generator: "
   ]
  },
  {
   "cell_type": "code",
   "execution_count": 18,
   "metadata": {},
   "outputs": [],
   "source": [
    "def powers():\n",
    "    x = 1\n",
    "    while True:\n",
    "        x = x * 2\n",
    "        yield x"
   ]
  },
  {
   "cell_type": "markdown",
   "metadata": {},
   "source": [
    "## 19\n",
    "Now we can call this generator as many times as we like.  It will always return values:"
   ]
  },
  {
   "cell_type": "code",
   "execution_count": 19,
   "metadata": {},
   "outputs": [
    {
     "name": "stdout",
     "output_type": "stream",
     "text": [
      "generating from a while loop\n",
      "2\n",
      "4\n",
      "8\n",
      "16\n",
      "32\n",
      "64\n",
      "128\n",
      "256\n",
      "512\n",
      "1024\n",
      "generating from a for loop\n",
      "2048\n",
      "4096\n",
      "8192\n",
      "16384\n",
      "32768\n",
      "65536\n",
      "131072\n",
      "262144\n",
      "524288\n",
      "1048576\n"
     ]
    }
   ],
   "source": [
    "g = powers()\n",
    "\n",
    "print(\"generating from a while loop\")\n",
    "x = 0\n",
    "while x < 1000:\n",
    "    x = next(g)\n",
    "    print(x)\n",
    "    \n",
    "print(\"generating from a for loop\")\n",
    "for n in range(10):\n",
    "    print(next(g)) "
   ]
  },
  {
   "cell_type": "markdown",
   "metadata": {},
   "source": [
    "## 20\n",
    "There are many built-in generators and iterators in Python already.  Lists, tuples and dicts can be iterated over in loops.  Furthermore \"range\" is a generator.  And there are many, many more.\n",
    "\n",
    "Finally, realise that generators execute code and then wait before they are asked to continue.  We can use this behaviour to run several generators concurrently.  In fact this is the basis behind the \"aysync IO\" introduced recently into Python.\n",
    "\n",
    "Let's define 3 generators and create a primitive round-robin scheduler to call \"next\" on each generator in turn.  We will then have a simple concurrent system:"
   ]
  },
  {
   "cell_type": "code",
   "execution_count": 20,
   "metadata": {},
   "outputs": [
    {
     "name": "stdout",
     "output_type": "stream",
     "text": [
      "square(1) = 1\n",
      "cube(1) = 1\n",
      "quad(10) = 10000\n",
      "square(2) = 4\n",
      "cube(4) = 64\n",
      "quad(9) = 6561\n",
      "square(3) = 9\n",
      "cube(7) = 343\n",
      "quad(8) = 4096\n",
      "square(4) = 16\n",
      "cube(10) = 1000\n",
      "quad(7) = 2401\n",
      "square(5) = 25\n",
      "cube(13) = 2197\n",
      "quad(6) = 1296\n",
      "square(6) = 36\n",
      "cube(16) = 4096\n",
      "quad(5) = 625\n",
      "square(7) = 49\n",
      "cube(19) = 6859\n",
      "quad(4) = 256\n",
      "square(8) = 64\n",
      "cube(22) = 10648\n",
      "quad(3) = 81\n",
      "square(9) = 81\n",
      "cube(25) = 15625\n",
      "quad(2) = 16\n",
      "square(10) = 100\n",
      "cube(28) = 21952\n",
      "quad(1) = 1\n",
      "square(11) = 121\n",
      "cube(31) = 29791\n",
      "quad(0) = 0\n",
      "square(12) = 144\n",
      "cube(34) = 39304\n",
      "quad(-1) = 1\n",
      "square(13) = 169\n",
      "cube(37) = 50653\n",
      "quad(-2) = 16\n",
      "square(14) = 196\n",
      "cube(40) = 64000\n",
      "quad(-3) = 81\n"
     ]
    }
   ],
   "source": [
    "import time\n",
    "\n",
    "def squares():\n",
    "    n = 1\n",
    "    while True:\n",
    "        yield f\"square({n}) = {n**2}\"\n",
    "        n += 1\n",
    "\n",
    "def cubes():\n",
    "    n = 1\n",
    "    while True:\n",
    "        yield f\"cube({n}) = {n**3}\"\n",
    "        n += 3\n",
    "        \n",
    "def quads():\n",
    "    n = 10\n",
    "    while True:\n",
    "        yield f\"quad({n}) = {n**4}\"\n",
    "        n -= 1\n",
    "\n",
    "generators = []\n",
    "generators.append( squares() )\n",
    "generators.append( cubes() )\n",
    "generators.append( quads() )\n",
    "\n",
    "# generators allow us to perform different calculations in parallel\n",
    "# create a round robin scheduler\n",
    "t = 0\n",
    "while(t < 20):\n",
    "    for g in generators:\n",
    "        print(next(g))\n",
    "        time.sleep(0.5)\n",
    "        t += 0.5"
   ]
  }
 ],
 "metadata": {
  "kernelspec": {
   "display_name": "Python 3",
   "language": "python",
   "name": "python3"
  },
  "language_info": {
   "codemirror_mode": {
    "name": "ipython",
    "version": 3
   },
   "file_extension": ".py",
   "mimetype": "text/x-python",
   "name": "python",
   "nbconvert_exporter": "python",
   "pygments_lexer": "ipython3",
   "version": "3.7.3"
  }
 },
 "nbformat": 4,
 "nbformat_minor": 4
}
