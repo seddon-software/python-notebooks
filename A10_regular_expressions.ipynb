{
 "cells": [
  {
   "cell_type": "raw",
   "metadata": {},
   "source": []
  },
  {
   "cell_type": "markdown",
   "metadata": {},
   "source": [
    "<div style=\"color:red;background-color:black\">\n",
    "Diamond Light Source\n",
    "<br style=\"color:red;background-color:antiquewhite\"><h1>Python Language: Regular Expressions</h1>  \n",
    "\n",
    "©2000-21 Chris Seddon \n",
    "</div>"
   ]
  },
  {
   "cell_type": "markdown",
   "metadata": {},
   "source": [
    "## 1\n"
   ]
  },
  {
   "cell_type": "code",
   "execution_count": 1,
   "metadata": {},
   "outputs": [
    {
     "name": "stdout",
     "output_type": "stream",
     "text": [
      "['hello', 'to', 'you']\n",
      "['aaa', 'bbb', 'ccc', 'ddd', 'eee']\n"
     ]
    }
   ],
   "source": [
    "import re\n",
    "\n",
    "x = \"hello-to-you\".split(\"-\")\n",
    "print(x)\n",
    "\n",
    "pattern = re.compile(r\"[\\s^;]+\")\n",
    "text = \"  aaa  ; bbb ;ccc     ;    ^    ddd ;  eee   \"\n",
    "mylist = pattern.split(text.strip())\n",
    "print(mylist)"
   ]
  },
  {
   "cell_type": "markdown",
   "metadata": {},
   "source": [
    "## 2\n"
   ]
  },
  {
   "cell_type": "code",
   "execution_count": 2,
   "metadata": {},
   "outputs": [
    {
     "name": "stdout",
     "output_type": "stream",
     "text": [
      "< aaa  ; bbb :ccc     ;        ddd :  eee\n",
      "> aaa--;--bbb--:--ccc--;--ddd--:--eee\n"
     ]
    }
   ],
   "source": [
    "import re\n",
    "\n",
    "# re.sub(pattern, repl, string, count=0, flags=0)\n",
    "\n",
    "pattern = re.compile(r\"\\s*([;:])\\s*\")\n",
    "string = \"aaa  ; bbb :ccc     ;        ddd :  eee\"\n",
    "repl = r\"--\\1--\"\n",
    "newText = re.sub(pattern, repl, string)\n",
    "print(\"<\", string)\n",
    "print(\">\", newText)"
   ]
  },
  {
   "cell_type": "markdown",
   "metadata": {},
   "source": [
    "## 3 \n"
   ]
  },
  {
   "cell_type": "code",
   "execution_count": null,
   "metadata": {},
   "outputs": [],
   "source": [
    "import re\n",
    "\n",
    "def f(matchObject):\n",
    "    return f.pre + matchObject.group(1) + f.post\n",
    "\n",
    "# re.sub(pattern, repl, string, count=0, flags=0)\n",
    "\n",
    "pattern = re.compile(r\"\\s*([;:])\\s*\")\n",
    "string = \"aaa  ; bbb :ccc     ;        ddd :  eee\"\n",
    "f.pre = \"--\"\n",
    "f.post = \"++\"\n",
    "repl = f\n",
    "newText = re.sub(pattern, repl, string)\n",
    "print(\"<\", string)\n",
    "print(\">\", newText)"
   ]
  },
  {
   "cell_type": "markdown",
   "metadata": {},
   "source": [
    "## 4\n",
    "Regular Expressions are search patterns; they have been around in Unix systems for many years.  Also known as RegEx or RE, regular expression allow you to perform powerful searches on data (often in the form of strings).\n",
    "\n",
    "Nowadays most modern computer languages have support for RegEx and Python is no exception.\n",
    "\n",
    "Let's begin with a simple test string:\n",
    "\n",
    "    \"-------ABC------------\"\n",
    "    \n",
    "and search for the pattern \"ABC\":"
   ]
  },
  {
   "cell_type": "code",
   "execution_count": 5,
   "metadata": {},
   "outputs": [
    {
     "name": "stdout",
     "output_type": "stream",
     "text": [
      "ABC\n"
     ]
    }
   ],
   "source": [
    "import re\n",
    "\n",
    "test = \"-------ABC------------\"\n",
    "pattern = \"ABC\"\n",
    "pattern = re.compile(pattern)\n",
    "\n",
    "match = pattern.search(test)\n",
    "print(match.group())"
   ]
  },
  {
   "cell_type": "markdown",
   "metadata": {},
   "source": [
    "## 4.1\n",
    "Note the pattern can occur anywhere in the test string.  Usually RegExs"
   ]
  },
  {
   "cell_type": "code",
   "execution_count": 3,
   "metadata": {},
   "outputs": [
    {
     "name": "stdout",
     "output_type": "stream",
     "text": [
      "None\n",
      "ABC\n"
     ]
    }
   ],
   "source": [
    "import re\n",
    "\n",
    "test = \"-------ABC------------\"\n",
    "pattern = r\"\\w+\"\n",
    "pattern = re.compile(pattern)\n",
    "\n",
    "match = pattern.match(test)\n",
    "print(match)\n",
    "\n",
    "match = pattern.search(test)\n",
    "print(match.group())"
   ]
  },
  {
   "cell_type": "markdown",
   "metadata": {},
   "source": [
    "## 5\n"
   ]
  },
  {
   "cell_type": "code",
   "execution_count": null,
   "metadata": {
    "slideshow": {
     "slide_type": "slide"
    }
   },
   "outputs": [],
   "source": [
    "import re\n",
    "\n",
    "text1 = \"This line contains the number 8.73 and 4.67\"\n",
    "text2 = \"This line does not contains any numbers\"\n",
    "\n",
    "numberPattern = r\"\\d+[.]\\d+\"\n",
    "pattern = re.compile(numberPattern)\n",
    "matcher1 = pattern.search(text1)\n",
    "matcher2 = pattern.search(text2)\n",
    "\n",
    "print(matcher1.group())\n",
    "if matcher1:\n",
    "    print(\"Pattern found in text1\")\n",
    "else:\n",
    "    print(\"Pattern NOT found in text1\")\n",
    "\n",
    "if matcher2:\n",
    "    print(\"Pattern found in text2\")\n",
    "else:\n",
    "    print(\"Pattern NOT found in text2\")\n"
   ]
  },
  {
   "cell_type": "markdown",
   "metadata": {},
   "source": [
    "## 6\n"
   ]
  },
  {
   "cell_type": "code",
   "execution_count": null,
   "metadata": {},
   "outputs": [],
   "source": [
    "import re\n",
    "\n",
    "string = \"AAAA1111BBBB2222CCCC3333DDDD\";\n",
    "pattern = r\"\"\"         \n",
    "             ^        # start of line\n",
    "             (.*?)    # 0 or more characters\n",
    "                      # non greedy\n",
    "             (\\d+)    # 1 or more digits\n",
    "             (.*)     # 0 or more characters\n",
    "             $        # end of line\n",
    "           \"\"\"\n",
    "           \n",
    "compiledPattern = re.compile(pattern, re.VERBOSE)\n",
    "result = compiledPattern.search(string)\n",
    "\n",
    "print(\"Part1: \", result.group(1))\n",
    "print(\"Part2: \", result.group(2))\n",
    "print(\"Part3: \", result.group(3))\n"
   ]
  },
  {
   "cell_type": "markdown",
   "metadata": {},
   "source": [
    "## 7\n"
   ]
  },
  {
   "cell_type": "code",
   "execution_count": null,
   "metadata": {
    "slideshow": {
     "slide_type": "slide"
    }
   },
   "outputs": [],
   "source": [
    "import re\n",
    "\n",
    "string = \"AAAA1111BBBB2222CCCC\"\n",
    "\n",
    "pattern = r\"\"\"^(           # capture-1\n",
    "                (          # capture-2\n",
    "                 (\\D+)     # capture-3\n",
    "                 (\\d+)     # capture-4\n",
    "                )\n",
    "                (          # capture-5\n",
    "                 (\\D+)     # capture-6\n",
    "                 (\\d+)     # capture-7\n",
    "                )\n",
    "                 (\\D+)     # capture-8\n",
    "               )$\"\"\"\n",
    "compiledPattern = re.compile(pattern, re.VERBOSE)\n",
    "             \n",
    "result = compiledPattern.search(string)\n",
    "\n",
    "# print individual captures\n",
    "print(result.group(1))\n",
    "print(result.group(2))\n",
    "print(result.group(3))\n",
    "\n",
    "for i, group in enumerate(result.groups()):\n",
    "    print(i+1, group)\n"
   ]
  },
  {
   "cell_type": "markdown",
   "metadata": {},
   "source": [
    "## 8\n"
   ]
  },
  {
   "cell_type": "code",
   "execution_count": null,
   "metadata": {},
   "outputs": [],
   "source": [
    "import re\n",
    "\n",
    "text = \"AB12CD34EF56GH\"\n",
    "pattern = r\"(\\d+)\"\n",
    "\n",
    "# find all occurances of pattern\n",
    "matcher = re.findall(pattern, text)\n",
    "print(matcher)\n",
    "\n",
    "# iterate through finding the pattern\n",
    "for matcher in re.finditer(pattern, text):\n",
    "    print(matcher.groups(0))\n"
   ]
  },
  {
   "cell_type": "markdown",
   "metadata": {
    "slideshow": {
     "slide_type": "subslide"
    }
   },
   "source": [
    "## 9\n"
   ]
  },
  {
   "cell_type": "code",
   "execution_count": null,
   "metadata": {
    "slideshow": {
     "slide_type": "slide"
    }
   },
   "outputs": [],
   "source": [
    "import re\n",
    "\n",
    "testString = \"---11112222333333334444555563366633777733---\"\n",
    "testPattern = \"2+(3+)4+(5+)6+\"\n",
    "\n",
    "# search for pattern\n",
    "pattern = re.compile(testPattern)\n",
    "result = pattern.search(testString)\n",
    "# print results\n",
    "print(\"full match: \", result.group(0))\n",
    "print(\"capture pattern 1: \", result.group(1))\n",
    "print(\"capture pattern 2: \", result.group(2))\n",
    "print(\"all captures: \", result.groups())\n",
    "print(result.group())\n"
   ]
  },
  {
   "cell_type": "markdown",
   "metadata": {
    "slideshow": {
     "slide_type": "subslide"
    }
   },
   "source": [
    "## 10\n"
   ]
  },
  {
   "cell_type": "code",
   "execution_count": null,
   "metadata": {
    "slideshow": {
     "slide_type": "slide"
    }
   },
   "outputs": [],
   "source": [
    "import re\n",
    "\n",
    "def test(name, pattern):\n",
    "    text = \"AAAA1111BBBB2222CCCC3333DDDD\"\n",
    "    print(pattern)\n",
    "    compiledPattern = re.compile(pattern, re.X)\n",
    "    matcher = compiledPattern.search(text)\n",
    "    print((name + \"<\" + matcher.group(1) +\n",
    "                  \"><\" + matcher.group(2) +\n",
    "                  \"><\" + matcher.group(3) + \">\" ))\n",
    "\n",
    "test(\"Greedy:     \", r\"^(.+)(\\d+)(.+)$\")\n",
    "test(\"Non-Greedy: \", r\"^(.+?)(\\d+)(.+)$\")\n"
   ]
  },
  {
   "cell_type": "markdown",
   "metadata": {},
   "source": [
    "## 11\n",
    "To read the binary file, we use <pre>hexdump</pre>"
   ]
  },
  {
   "cell_type": "code",
   "execution_count": null,
   "metadata": {},
   "outputs": [],
   "source": [
    "import re\n",
    "\n",
    "# Search criteria:\n",
    "# 1) filenames with an extention\n",
    "# 2) extension must not be .bat\n",
    "\n",
    "def test(pattern):\n",
    "    splitPattern = re.compile(r\";[ ]+\")\n",
    "    for key, value in  (iter(tests.items())):\n",
    "        text, expected = splitPattern.split(value, 1)\n",
    "        compiledPattern = re.compile(pattern, re.X)\n",
    "        matcher = compiledPattern.search(text)\n",
    "        if (matcher is not None and expected == \"VALID\"):\n",
    "            print(\"PASS\", end=' ')\n",
    "        elif(matcher is None and expected == \"INVALID\"):\n",
    "            print(\"PASS\", end=' ')            \n",
    "        else:\n",
    "            print(\"FAIL\", end=' ')\n",
    "    print()\n",
    "\n",
    "\n",
    "tests = {\n",
    "          1 : \"f1.txt;   VALID\", \n",
    "          2 : \"f2.;      INVALID\", \n",
    "          3 : \"f3.bat;   INVALID\", \n",
    "          4 : \"f4,pdf;   INVALID\",\n",
    "          9 : \"f5..html; INVALID\", \n",
    "          6 : \"f6..;     INVALID\",\n",
    "          7 : \"f7.chm;   VALID\",\n",
    "          8 : \".txt;     INVALID\",\n",
    "          9 : \"f5.hbat;  VALID\", \n",
    "        }\n",
    "\n",
    "test(r\".*[.].*$\")\n",
    "test(r\".+[.].+$\")\n",
    "test(r\"\\w+[.]\\w+$\")\n",
    "test(r\"\\w+[.](?!bat)\\w+$\") # should all pass\n"
   ]
  },
  {
   "cell_type": "markdown",
   "metadata": {},
   "source": [
    "## 12\n",
    "All the examples discussed so far use sequential IO.  When we read or write from/to a file the \"file position indicator\" moves sequentially through the file.  However, you can jump around in the file using random access.  This is normally done when working with binary files where you read/write records from/to the file at a known offset (number of bytes) from the start of the file.  \n",
    "\n",
    "The following example shows how to write bytes to a file at offsets of 40, 140 and 240 bytes from the start of the file and then writing much further on in the file (4096*25 bytes into the file) using:  \n",
    "\n",
    "`seek(offset, whence)`\n",
    "* whence = 0: offset relative to start of file\n",
    "* whence = 1: offset relative to current position in file\n",
    "* whence = 2: offset relative to end of file\n",
    "</pre>\n",
    "The gaps will be filled with zeros:"
   ]
  },
  {
   "cell_type": "code",
   "execution_count": null,
   "metadata": {},
   "outputs": [],
   "source": [
    "import re\n",
    "\n",
    "days = { 'mon' : 'Monday', \n",
    "         'tue' : 'Tuesday',\n",
    "         'wed' : 'Wednesday', \n",
    "         'thu' : 'Thursday', \n",
    "         'fri' : 'Friday' }\n",
    "\n",
    "pattern = \"(\" + \"|\".join(list(days.keys())) + \")\"\n",
    "compiledPattern = re.compile(pattern)\n",
    "print(\"pattern: \", pattern)\n",
    "\n",
    "text = '''The course starts on mon, continues on tue,\n",
    "          but thu is the last day'''\n",
    "\n",
    "def replaceGroup(matcher):\n",
    "    key = matcher.group(1)\n",
    "    print(key)\n",
    "    return days[key]\n",
    "\n",
    "for matcher in re.finditer(compiledPattern, text):\n",
    "    text = compiledPattern.sub(replaceGroup, text, 1)\n",
    "\n",
    "print(text)\n"
   ]
  }
 ],
 "metadata": {
  "kernelspec": {
   "display_name": "Python 3",
   "language": "python",
   "name": "python3"
  },
  "language_info": {
   "codemirror_mode": {
    "name": "ipython",
    "version": 3
   },
   "file_extension": ".py",
   "mimetype": "text/x-python",
   "name": "python",
   "nbconvert_exporter": "python",
   "pygments_lexer": "ipython3",
   "version": "3.8.3"
  }
 },
 "nbformat": 4,
 "nbformat_minor": 4
}
